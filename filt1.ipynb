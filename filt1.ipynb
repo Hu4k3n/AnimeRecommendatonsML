{
 "cells": [
  {
   "cell_type": "code",
   "execution_count": 58,
   "metadata": {},
   "outputs": [],
   "source": [
    "file = open('data/anime.csv','w',newline='')"
   ]
  },
  {
   "cell_type": "code",
   "execution_count": 59,
   "metadata": {},
   "outputs": [
    {
     "ename": "AttributeError",
     "evalue": "'_io.TextIOWrapper' object has no attribute 'head'",
     "output_type": "error",
     "traceback": [
      "\u001b[0;31m---------------------------------------------------------------------------\u001b[0m",
      "\u001b[0;31mAttributeError\u001b[0m                            Traceback (most recent call last)",
      "\u001b[0;32m<ipython-input-59-2df2d0ba5aac>\u001b[0m in \u001b[0;36m<module>\u001b[0;34m\u001b[0m\n\u001b[0;32m----> 1\u001b[0;31m \u001b[0mfile\u001b[0m\u001b[0;34m.\u001b[0m\u001b[0mhead\u001b[0m\u001b[0;34m(\u001b[0m\u001b[0;34m)\u001b[0m\u001b[0;34m\u001b[0m\u001b[0;34m\u001b[0m\u001b[0m\n\u001b[0m",
      "\u001b[0;31mAttributeError\u001b[0m: '_io.TextIOWrapper' object has no attribute 'head'"
     ]
    }
   ],
   "source": [
    "file.head()"
   ]
  },
  {
   "cell_type": "code",
   "execution_count": 4,
   "metadata": {},
   "outputs": [
    {
     "data": {
      "text/plain": [
       "<_io.TextIOWrapper name='data/anime.csv' mode='w' encoding='UTF-8'>"
      ]
     },
     "execution_count": 4,
     "metadata": {},
     "output_type": "execute_result"
    }
   ],
   "source": [
    "file"
   ]
  },
  {
   "cell_type": "code",
   "execution_count": 5,
   "metadata": {},
   "outputs": [
    {
     "data": {
      "text/plain": [
       "\"<_io.TextIOWrapper name='data/anime.csv' mode='w' encoding='UTF-8'>\""
      ]
     },
     "execution_count": 5,
     "metadata": {},
     "output_type": "execute_result"
    }
   ],
   "source": [
    "str(file)"
   ]
  },
  {
   "cell_type": "code",
   "execution_count": 4,
   "metadata": {},
   "outputs": [],
   "source": [
    "file_path='data/new_anime.csv'"
   ]
  },
  {
   "cell_type": "code",
   "execution_count": null,
   "metadata": {},
   "outputs": [],
   "source": []
  },
  {
   "cell_type": "code",
   "execution_count": 5,
   "metadata": {},
   "outputs": [],
   "source": [
    "import pandas as pd\n",
    "import csv\n",
    "data=pd.read_csv(file_path)"
   ]
  },
  {
   "cell_type": "markdown",
   "metadata": {},
   "source": []
  },
  {
   "cell_type": "code",
   "execution_count": 37,
   "metadata": {},
   "outputs": [
    {
     "data": {
      "text/html": [
       "<div>\n",
       "<style scoped>\n",
       "    .dataframe tbody tr th:only-of-type {\n",
       "        vertical-align: middle;\n",
       "    }\n",
       "\n",
       "    .dataframe tbody tr th {\n",
       "        vertical-align: top;\n",
       "    }\n",
       "\n",
       "    .dataframe thead th {\n",
       "        text-align: right;\n",
       "    }\n",
       "</style>\n",
       "<table border=\"1\" class=\"dataframe\">\n",
       "  <thead>\n",
       "    <tr style=\"text-align: right;\">\n",
       "      <th></th>\n",
       "      <th>name</th>\n",
       "      <th>genre</th>\n",
       "    </tr>\n",
       "  </thead>\n",
       "  <tbody>\n",
       "    <tr>\n",
       "      <th>0</th>\n",
       "      <td>Kimi no Na wa.</td>\n",
       "      <td>Drama | Romance | School | Supernatural</td>\n",
       "    </tr>\n",
       "    <tr>\n",
       "      <th>1</th>\n",
       "      <td>Fullmetal Alchemist: Brotherhood</td>\n",
       "      <td>Action | Adventure | Drama | Fantasy | Magic |...</td>\n",
       "    </tr>\n",
       "    <tr>\n",
       "      <th>2</th>\n",
       "      <td>Gintama°</td>\n",
       "      <td>Action | Comedy | Historical | Parody | Samura...</td>\n",
       "    </tr>\n",
       "    <tr>\n",
       "      <th>3</th>\n",
       "      <td>Haikyuu!!: Karasuno Koukou VS Shiratorizawa Ga...</td>\n",
       "      <td>Comedy | Drama | School | Shounen | Sports</td>\n",
       "    </tr>\n",
       "    <tr>\n",
       "      <th>4</th>\n",
       "      <td>Hunter x Hunter (2011)</td>\n",
       "      <td>Action | Adventure | Shounen | Super Power</td>\n",
       "    </tr>\n",
       "  </tbody>\n",
       "</table>\n",
       "</div>"
      ],
      "text/plain": [
       "                                                name  \\\n",
       "0                                     Kimi no Na wa.   \n",
       "1                   Fullmetal Alchemist: Brotherhood   \n",
       "2                                           Gintama°   \n",
       "3  Haikyuu!!: Karasuno Koukou VS Shiratorizawa Ga...   \n",
       "4                             Hunter x Hunter (2011)   \n",
       "\n",
       "                                               genre  \n",
       "0            Drama | Romance | School | Supernatural  \n",
       "1  Action | Adventure | Drama | Fantasy | Magic |...  \n",
       "2  Action | Comedy | Historical | Parody | Samura...  \n",
       "3         Comedy | Drama | School | Shounen | Sports  \n",
       "4         Action | Adventure | Shounen | Super Power  "
      ]
     },
     "execution_count": 37,
     "metadata": {},
     "output_type": "execute_result"
    }
   ],
   "source": [
    "data.head()"
   ]
  },
  {
   "cell_type": "code",
   "execution_count": null,
   "metadata": {},
   "outputs": [],
   "source": []
  },
  {
   "cell_type": "code",
   "execution_count": 7,
   "metadata": {},
   "outputs": [],
   "source": [
    "from sklearn.feature_extraction.text import TfidfVectorizer\n",
    "tf = TfidfVectorizer(analyzer='word',ngram_range=(1, 2),min_df=0, stop_words='english')\n",
    "df=pd.DataFrame(data,columns=['name','genre'])"
   ]
  },
  {
   "cell_type": "code",
   "execution_count": 9,
   "metadata": {},
   "outputs": [
    {
     "name": "stdout",
     "output_type": "stream",
     "text": [
      "10012\n",
      "10012\n"
     ]
    }
   ],
   "source": [
    "file=open('data/bagofgenres.txt','r')\n",
    "a=file.read().split('\\n')\n",
    "print(len(a))\n",
    "\n",
    "file=open('data/nagoftitles.txt','r')\n",
    "b=file.read().split('\\n')\n",
    "print(len(b))"
   ]
  },
  {
   "cell_type": "code",
   "execution_count": 10,
   "metadata": {},
   "outputs": [],
   "source": [
    "tfidf_matrix = tf.fit_transform(a)"
   ]
  },
  {
   "cell_type": "code",
   "execution_count": 12,
   "metadata": {},
   "outputs": [],
   "source": [
    "from sklearn.metrics.pairwise import linear_kernel\n",
    "cosine_sim = linear_kernel(tfidf_matrix, tfidf_matrix)"
   ]
  },
  {
   "cell_type": "code",
   "execution_count": 42,
   "metadata": {},
   "outputs": [
    {
     "name": "stdout",
     "output_type": "stream",
     "text": [
      "  (0, 189)\t0.2481172551930431\n",
      "  (0, 590)\t0.2730033716493246\n",
      "  (0, 614)\t0.28966536152343836\n",
      "  (0, 670)\t0.3061137127370865\n",
      "  (0, 208)\t0.4432310086519671\n",
      "  (0, 592)\t0.39217317986877614\n",
      "  (0, 622)\t0.5796911504519934\n",
      "  (1, 189)\t0.17093886338143918\n",
      "  (1, 0)\t0.14723893338500207\n",
      "  (1, 35)\t0.16043974149040996\n",
      "  (1, 247)\t0.16274152645261902\n",
      "  (1, 446)\t0.22997610129116197\n",
      "  (1, 485)\t0.2667191137107122\n",
      "  (1, 649)\t0.1759114057410604\n",
      "  (1, 1)\t0.22076099975169197\n",
      "  (1, 40)\t0.29621360442213\n",
      "  (1, 191)\t0.2854817080243724\n",
      "  (1, 255)\t0.28385629941788487\n",
      "  (1, 449)\t0.46705176040960644\n",
      "  (1, 497)\t0.4745655921501325\n",
      "  (2, 0)\t0.1307840926369566\n",
      "  (2, 649)\t0.15625224290492967\n",
      "  (2, 111)\t0.10840483452981699\n",
      "  (2, 356)\t0.20504583928202302\n",
      "  (2, 546)\t0.23999046892722234\n",
      "  :\t:\n",
      "  (9994, 119)\t0.8733428010953508\n",
      "  (9995, 658)\t0.2795632797751046\n",
      "  (9995, 439)\t0.2795632797751046\n",
      "  (9995, 659)\t0.2795632797751046\n",
      "  (9995, 333)\t0.2773758676112659\n",
      "  (9995, 348)\t0.8298166941385654\n",
      "  (9996, 333)\t1.0\n",
      "  (9997, 333)\t1.0\n",
      "  (9998, 333)\t1.0\n",
      "  (9999, 333)\t1.0\n",
      "  (10000, 333)\t1.0\n",
      "  (10001, 333)\t1.0\n",
      "  (10002, 670)\t0.28362483726157084\n",
      "  (10002, 161)\t0.38935980035383055\n",
      "  (10002, 333)\t0.27296755168234216\n",
      "  (10002, 352)\t0.5842943157937353\n",
      "  (10002, 167)\t0.5933336041523786\n",
      "  (10003, 333)\t1.0\n",
      "  (10004, 333)\t1.0\n",
      "  (10005, 333)\t1.0\n",
      "  (10006, 333)\t1.0\n",
      "  (10007, 333)\t1.0\n",
      "  (10008, 333)\t1.0\n",
      "  (10009, 333)\t1.0\n",
      "  (10010, 333)\t1.0\n"
     ]
    }
   ],
   "source": [
    "print(tfidf_matrix)"
   ]
  },
  {
   "cell_type": "code",
   "execution_count": 17,
   "metadata": {},
   "outputs": [],
   "source": [
    "titles=data['name']\n"
   ]
  },
  {
   "cell_type": "code",
   "execution_count": 18,
   "metadata": {},
   "outputs": [],
   "source": [
    "indices = pd.Series(data.index, index=data['name'])\n",
    "# idx=indices(titles)"
   ]
  },
  {
   "cell_type": "code",
   "execution_count": 28,
   "metadata": {},
   "outputs": [],
   "source": [
    "def genre_recommendations(title):\n",
    "    idx = indices[title]\n",
    "#     idx=45\n",
    "    sim_scores = list(enumerate(cosine_sim[idx]))\n",
    "    sim_scores = sorted(sim_scores, key=lambda x: x[1], reverse=True)\n",
    "    sim_scores = sim_scores[1:21]\n",
    "    movie_indices = [i[0] for i in sim_scores]\n",
    "    sim_scores\n",
    "    return titles.iloc[movie_indices],data['genre'].iloc[movie_indices]"
   ]
  },
  {
   "cell_type": "code",
   "execution_count": null,
   "metadata": {},
   "outputs": [],
   "source": []
  },
  {
   "cell_type": "code",
   "execution_count": 29,
   "metadata": {},
   "outputs": [
    {
     "data": {
      "text/plain": [
       "1457    Action | Drama | Horror | Mystery | Psychologi...\n",
       "46        Mystery | Psychological | Seinen | Supernatural\n",
       "6128             Drama | Horror | Mystery | Psychological\n",
       "3527    Drama | Horror | Mystery | Psychological | Sup...\n",
       "4717             Drama | Mystery | Psychological | Seinen\n",
       "2259    Dementia | Drama | Horror | Mystery | Psycholo...\n",
       "2397    Action | Drama | Military | Mystery | Psycholo...\n",
       "421       Horror | Mystery | Psychological | Supernatural\n",
       "838       Horror | Mystery | Psychological | Supernatural\n",
       "2055      Horror | Mystery | Psychological | Supernatural\n",
       "35      Drama | Horror | Mystery | Police | Psychologi...\n",
       "399             Action | Horror | Mystery | Psychological\n",
       "566             Action | Horror | Mystery | Psychological\n",
       "695             Action | Horror | Mystery | Psychological\n",
       "1515            Action | Horror | Mystery | Psychological\n",
       "3764                    Drama | Horror | Mystery | Seinen\n",
       "733     Action | Drama | Horror | Psychological | Roma...\n",
       "6135                              Action | Drama | Horror\n",
       "6398                              Action | Drama | Horror\n",
       "5248            Horror | Mystery | Psychological | Sci-Fi\n",
       "Name: genre, dtype: object"
      ]
     },
     "execution_count": 29,
     "metadata": {},
     "output_type": "execute_result"
    }
   ],
   "source": [
    "anime='Tokyo Ghoul'\n",
    "x,y=genre_recommendations(anime)\n",
    "y"
   ]
  },
  {
   "cell_type": "code",
   "execution_count": 25,
   "metadata": {},
   "outputs": [],
   "source": [
    "x=x.tolist()"
   ]
  },
  {
   "cell_type": "code",
   "execution_count": 27,
   "metadata": {},
   "outputs": [
    {
     "data": {
      "text/plain": [
       "'Tokyo Ghoul √A'"
      ]
     },
     "execution_count": 27,
     "metadata": {},
     "output_type": "execute_result"
    }
   ],
   "source": []
  },
  {
   "cell_type": "code",
   "execution_count": null,
   "metadata": {},
   "outputs": [],
   "source": []
  }
 ],
 "metadata": {
  "kernelspec": {
   "display_name": "Python 3",
   "language": "python",
   "name": "python3"
  },
  "language_info": {
   "codemirror_mode": {
    "name": "ipython",
    "version": 3
   },
   "file_extension": ".py",
   "mimetype": "text/x-python",
   "name": "python",
   "nbconvert_exporter": "python",
   "pygments_lexer": "ipython3",
   "version": "3.7.5"
  }
 },
 "nbformat": 4,
 "nbformat_minor": 4
}
